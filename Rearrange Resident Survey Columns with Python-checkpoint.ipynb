{
 "cells": [
  {
   "cell_type": "code",
   "execution_count": 75,
   "metadata": {},
   "outputs": [],
   "source": [
    "import pandas as pd"
   ]
  },
  {
   "cell_type": "markdown",
   "metadata": {},
   "source": [
    "### Bring in data that is in wrong schema"
   ]
  },
  {
   "cell_type": "code",
   "execution_count": 76,
   "metadata": {},
   "outputs": [],
   "source": [
    "#Read in the csv that you need to change\n",
    "#Remember that windows uses \"\\\" to seperate paths, but you need to switch them to \"/\"\n",
    "\n",
    "DFWrongSchema = pd.read_excel('C:/Users/Eric/Documents/Work from Home/Resident Survey PowerBI Updates/FY2020 Survey Data WORKING COPY.xlsx')"
   ]
  },
  {
   "cell_type": "code",
   "execution_count": 77,
   "metadata": {},
   "outputs": [],
   "source": [
    "#Grab the wrong schemas current order\n",
    "DFWrongSchemaCols = DFWrongSchema.columns.tolist()"
   ]
  },
  {
   "cell_type": "markdown",
   "metadata": {},
   "source": [
    "### Bring in data that is in correct schema"
   ]
  },
  {
   "cell_type": "code",
   "execution_count": 78,
   "metadata": {},
   "outputs": [],
   "source": [
    "#Read in the excel file containing the right schema, the one you want your bad data to end up matching\n",
    "DFRightSchema = pd.read_excel('C:/Users/Eric/Documents/Work from Home/Resident Survey PowerBI Updates/Correct2020schema.xlsx')"
   ]
  },
  {
   "cell_type": "code",
   "execution_count": 79,
   "metadata": {},
   "outputs": [],
   "source": [
    "ColsCorrectOrder = DFRightSchema.columns"
   ]
  },
  {
   "cell_type": "code",
   "execution_count": 80,
   "metadata": {},
   "outputs": [],
   "source": [
    "#Add a bunch of empty columns that are present for some reason. \n",
    "#Add or remove these as needed based on the errors below.\n",
    "DFWrongSchema['Unnamed: 154'] = \"\"\n",
    "DFWrongSchema['Unnamed: 177'] = \"\"\n",
    "DFWrongSchema['Unnamed: 68'] = \"\"\n",
    "DFWrongSchema['Unnamed: 212'] = \"\"\n",
    "DFWrongSchema['Unnamed: 74'] = \"\"\n",
    "DFWrongSchema['Unnamed: 180'] = \"\"\n",
    "DFWrongSchema['Unnamed: 214'] = \"\"\n",
    "DFWrongSchema['Unnamed: 72'] = \"\"\n",
    "DFWrongSchema['Unnamed: 183'] = \"\"\n",
    "DFWrongSchema['Unnamed: 213'] = \"\"\n",
    "DFWrongSchema['Unnamed: 175'] = \"\"\n",
    "DFWrongSchema['Unnamed: 106'] = \"\"\n",
    "DFWrongSchema['Unnamed: 66'] = \"\"\n",
    "DFWrongSchema['Unnamed: 86'] = \"\"\n",
    "DFWrongSchema['Unnamed: 172'] = \"\"\n",
    "DFWrongSchema['Unnamed: 70'] = \"\"\n",
    "DFWrongSchema['Unnamed: 105'] = \"\"\n",
    "DFWrongSchema['Unnamed: 87'] = \"\"\n",
    "DFWrongSchema['OLDETC_ID'] = \"\""
   ]
  },
  {
   "cell_type": "markdown",
   "metadata": {},
   "source": [
    "### Rearrange columns according to right schema"
   ]
  },
  {
   "cell_type": "code",
   "execution_count": 81,
   "metadata": {},
   "outputs": [],
   "source": [
    "DFWrongSchema = DFWrongSchema[ColsCorrectOrder]"
   ]
  },
  {
   "cell_type": "markdown",
   "metadata": {},
   "source": [
    "### Export the data\n"
   ]
  },
  {
   "cell_type": "code",
   "execution_count": 83,
   "metadata": {},
   "outputs": [],
   "source": [
    "# Now we export the data as a csv for PowerBI to use and append\n",
    "DFWrongSchema.to_csv('DataRearrangedCorrectSchema.csv')"
   ]
  }
 ],
 "metadata": {
  "kernelspec": {
   "display_name": "Python 3",
   "language": "python",
   "name": "python3"
  },
  "language_info": {
   "codemirror_mode": {
    "name": "ipython",
    "version": 3
   },
   "file_extension": ".py",
   "mimetype": "text/x-python",
   "name": "python",
   "nbconvert_exporter": "python",
   "pygments_lexer": "ipython3",
   "version": "3.7.6"
  }
 },
 "nbformat": 4,
 "nbformat_minor": 4
}
